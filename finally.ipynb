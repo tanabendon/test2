{
 "cells": [
  {
   "cell_type": "code",
   "execution_count": 1,
   "metadata": {},
   "outputs": [],
   "source": [
    "import pickle #pickle模組\n",
    "\n",
    "#儲存Model(注:save資料夾要預先建立，否則會報錯)\n",
    "with open('C:/Users/Big data/PycharmProjects/PYETL/model/big2.pickle', 'rb') as f:\n",
    "    md1 =pickle.load(f)\n",
    "with open('C:/Users/Big data/PycharmProjects/PYETL/model/big2_vec.pickle', 'rb') as f:\n",
    "    vec = pickle.load(f)"
   ]
  },
  {
   "cell_type": "code",
   "execution_count": 2,
   "metadata": {},
   "outputs": [],
   "source": [
    "from jieba import cut\n",
    "def wordcut(s):\n",
    "    s = s.replace(\"\\r\", \"\").replace(\"\\n\", \"\")\n",
    "    return \" \".join(cut(s))"
   ]
  },
  {
   "cell_type": "code",
   "execution_count": 3,
   "metadata": {},
   "outputs": [
    {
     "name": "stdout",
     "output_type": "stream",
     "text": [
      "請隨意輸入您想像中的工作內容：美容\n"
     ]
    },
    {
     "name": "stderr",
     "output_type": "stream",
     "text": [
      "Building prefix dict from the default dictionary ...\n",
      "Loading model from cache C:\\Users\\BIGDAT~1\\AppData\\Local\\Temp\\jieba.cache\n",
      "Loading model cost 0.128 seconds.\n",
      "Prefix dict has been built succesfully.\n"
     ]
    },
    {
     "name": "stdout",
     "output_type": "stream",
     "text": [
      "依照輸入工作內容判斷是「客服支援」中的 美容美髮 的職業類別\n"
     ]
    }
   ],
   "source": [
    "label = [\"其他專業\", \"客服支援\", \"教育傳播\",\"管理財經\",\"行銷業務\",\"製造工程\"]\n",
    "s = input(\"請隨意輸入您想像中的工作內容：\")\n",
    "c = wordcut(s)\n",
    "v= vec.transform([c])\n",
    "#print(\"依照輸入工作內容判斷是\", label[big2.predict(v)[0]], \"的職業類別\")\n",
    "if label[md1.predict(v)[0]] == \"其他專業\":\n",
    "    label1 = [\"操作技術\",\"醫療專業\",\"餐飲專業\",\"運輸物流\",\"採購倉管\",\"軍警消防\",\n",
    "              \"醫療保健\",\"保全警衛\",\"其他專業\",\"農林漁牧\"]\n",
    "    with open('C:/Users/Big data/PycharmProjects/PYETL/model/mid_其他專業.pickle', 'rb') as f:\n",
    "        mid =pickle.load(f)\n",
    "    with open('C:/Users/Big data/PycharmProjects/PYETL/model/mid_其他專業_vec.pickle', 'rb') as f:\n",
    "        vec = pickle.load(f)\n",
    "    v = vec.transform([c])\n",
    "    print(\"依照輸入工作內容判斷是「其他專業」中的\", label1[mid.predict(v)[0]], \"的職業類別\")\n",
    "    with open('C:/Users/Big data/PycharmProjects/PYETL/model/big2_vec.pickle', 'rb') as f:\n",
    "        vec = pickle.load(f)\n",
    "    v= vec.transform([c])\n",
    "if label[md1.predict(v)[0]] == \"客服支援\":\n",
    "    label1 = [\"美容美髮\",\"旅遊休閒\",\"維修服務\",\"客戶服務\"]\n",
    "    with open('C:/Users/Big data/PycharmProjects/PYETL/model/mid_客服支援.pickle', 'rb') as f:\n",
    "        mid =pickle.load(f)\n",
    "    with open('C:/Users/Big data/PycharmProjects/PYETL/model/mid_客服支援_vec.pickle', 'rb') as f:\n",
    "        vec = pickle.load(f)\n",
    "    v = vec.transform([c])\n",
    "    print(\"依照輸入工作內容判斷是「客服支援」中的\", label1[mid.predict(v)[0]], \"的職業類別\")\n",
    "    with open('C:/Users/Big data/PycharmProjects/PYETL/model/big2_vec.pickle', 'rb') as f:\n",
    "        vec = pickle.load(f)\n",
    "    v= vec.transform([c])\n",
    "if label[md1.predict(v)[0]] == \"教育傳播\":\n",
    "    label1 = [\"教育輔導\",\"文字編譯\",\"藝術設計\",\"學術研究\",\"傳播藝術\",\"傳媒採訪\"]\n",
    "    with open('C:/Users/Big data/PycharmProjects/PYETL/model/mid_教育傳播.pickle', 'rb') as f:\n",
    "        mid =pickle.load(f)\n",
    "    with open('C:/Users/Big data/PycharmProjects/PYETL/model/mid_教育傳播_vec.pickle', 'rb') as f:\n",
    "        vec = pickle.load(f)\n",
    "    v = vec.transform([c])\n",
    "    print(\"依照輸入工作內容判斷是「教育傳播」中的\", label1[mid.predict(v)[0]], \"的職業類別\")\n",
    "    with open('C:/Users/Big data/PycharmProjects/PYETL/model/big2_vec.pickle', 'rb') as f:\n",
    "        vec = pickle.load(f)\n",
    "    v= vec.transform([c])\n",
    "if label[md1.predict(v)[0]] == \"管理財經\":\n",
    "    label1 = [\"金融專業\",\"行政總務\",\"財會稅務\",\"法務智財\",\"人力資源\",\"經營幕僚\"]\n",
    "    with open('C:/Users/Big data/PycharmProjects/PYETL/model/mid_管理財經.pickle', 'rb') as f:\n",
    "        mid =pickle.load(f)\n",
    "    with open('C:/Users/Big data/PycharmProjects/PYETL/model/mid_管理財經_vec.pickle', 'rb') as f:\n",
    "        vec = pickle.load(f)\n",
    "    v = vec.transform([c])\n",
    "    print(\"依照輸入工作內容判斷是「管理財經」中的\", label1[mid.predict(v)[0]], \"的職業類別\")\n",
    "    with open('C:/Users/Big data/PycharmProjects/PYETL/model/big2_vec.pickle', 'rb') as f:\n",
    "        vec = pickle.load(f)\n",
    "    v= vec.transform([c])\n",
    "if label[md1.predict(v)[0]] == \"行銷業務\":\n",
    "    label1 = [\"業務銷售\",\"行銷廣告\",\"門市管理\",\"產品企劃\",\"貿易船務\",\"專案管理\"]\n",
    "    with open('C:/Users/Big data/PycharmProjects/PYETL/model/mid_行銷業務.pickle', 'rb') as f:\n",
    "        mid =pickle.load(f)\n",
    "    with open('C:/Users/Big data/PycharmProjects/PYETL/model/mid_行銷業務_vec.pickle', 'rb') as f:\n",
    "        vec = pickle.load(f)\n",
    "    v = vec.transform([c])\n",
    "    print(\"依照輸入工作內容判斷是「行銷業務」中的\", label1[mid.predict(v)[0]], \"的職業類別\")\n",
    "    with open('C:/Users/Big data/PycharmProjects/PYETL/model/big2_vec.pickle', 'rb') as f:\n",
    "        vec = pickle.load(f)\n",
    "    v= vec.transform([c])\n",
    "if label[md1.predict(v)[0]] == \"製造工程\":\n",
    "    label1 = [\"生產管理\",\"工程研發\",\"製圖測量\",\"營建施作\",\"營建規劃\",\"MIS網管\",\n",
    "             \"品管安規\",\"軟體工程\",\"製程規劃\",\"環境衛生\",\"生技研發\",\"化工研發\"]\n",
    "    with open('C:/Users/Big data/PycharmProjects/PYETL/model/mid_製造工程.pickle', 'rb') as f:\n",
    "        mid =pickle.load(f)\n",
    "    with open('C:/Users/Big data/PycharmProjects/PYETL/model/mid_製造工程_vec.pickle', 'rb') as f:\n",
    "        vec = pickle.load(f)\n",
    "    v = vec.transform([c])\n",
    "    print(\"依照輸入工作內容判斷是「製造工程」中的\", label1[mid.predict(v)[0]], \"的職業類別\")\n",
    "    with open('C:/Users/Big data/PycharmProjects/PYETL/model/big2_vec.pickle', 'rb') as f:\n",
    "        vec = pickle.load(f)\n",
    "    v= vec.transform([c])"
   ]
  }
 ],
 "metadata": {
  "kernelspec": {
   "display_name": "Python 3",
   "language": "python",
   "name": "python3"
  },
  "language_info": {
   "codemirror_mode": {
    "name": "ipython",
    "version": 3
   },
   "file_extension": ".py",
   "mimetype": "text/x-python",
   "name": "python",
   "nbconvert_exporter": "python",
   "pygments_lexer": "ipython3",
   "version": "3.7.0"
  }
 },
 "nbformat": 4,
 "nbformat_minor": 2
}
